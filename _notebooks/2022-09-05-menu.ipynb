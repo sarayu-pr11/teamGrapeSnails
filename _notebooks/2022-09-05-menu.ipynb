{
 "cells": [
  {
   "cell_type": "code",
   "execution_count": null,
   "id": "67198fb8-5891-4a9a-b0da-a405a8d1b81d",
   "metadata": {},
   "outputs": [],
   "source": [
    "# Math Functions Menu\n",
    "> Menu\n",
    "\n",
    "- toc: false \n",
    "- comments: true\n",
    "- categories: [jupyter]"
   ]
  },
  {
   "cell_type": "code",
   "execution_count": 9,
   "id": "7a5cacf6-1f61-459f-ad3a-6074fd040402",
   "metadata": {
    "tags": []
   },
   "outputs": [
    {
     "name": "stdout",
     "output_type": "stream",
     "text": [
      "-------------------------\n",
      "\n",
      "Choose from these choices\n",
      "-------------------------\n",
      "\n",
      "1 - GCD\n",
      "2 - LCM\n",
      "3 - Fibonacci\n",
      "4 - Decimal to Binary\n",
      "5 - Factorial\n",
      "6 - Standard Deviation\n",
      "7 - Mean\n",
      "8 - Mode\n",
      "0 - Quit\n",
      "-------------------------\n",
      "\n"
     ]
    },
    {
     "name": "stdin",
     "output_type": "stream",
     "text": [
      " 8\n"
     ]
    },
    {
     "name": "stdout",
     "output_type": "stream",
     "text": [
      "8: how many values would you like to find the mode of?"
     ]
    },
    {
     "name": "stdin",
     "output_type": "stream",
     "text": [
      " 2\n"
     ]
    },
    {
     "name": "stdout",
     "output_type": "stream",
     "text": [
      "\n",
      "enter value: "
     ]
    },
    {
     "name": "stdin",
     "output_type": "stream",
     "text": [
      " 3\n"
     ]
    },
    {
     "name": "stdout",
     "output_type": "stream",
     "text": [
      "3.0\n",
      "enter value: "
     ]
    },
    {
     "name": "stdin",
     "output_type": "stream",
     "text": [
      " 3\n"
     ]
    },
    {
     "name": "stdout",
     "output_type": "stream",
     "text": [
      "3.0\n",
      "the mode is 3.0\u001b[0m\n"
     ]
    },
    {
     "name": "stdin",
     "output_type": "stream",
     "text": [
      " 7\n"
     ]
    },
    {
     "name": "stdout",
     "output_type": "stream",
     "text": [
      "7: how many values would you like to average?"
     ]
    },
    {
     "name": "stdin",
     "output_type": "stream",
     "text": [
      " 3\n"
     ]
    },
    {
     "name": "stdout",
     "output_type": "stream",
     "text": [
      "\n",
      "enter value:"
     ]
    },
    {
     "name": "stdin",
     "output_type": "stream",
     "text": [
      " 4\n"
     ]
    },
    {
     "name": "stdout",
     "output_type": "stream",
     "text": [
      "4.0\n",
      "enter value:"
     ]
    },
    {
     "name": "stdin",
     "output_type": "stream",
     "text": [
      " 5\n"
     ]
    },
    {
     "name": "stdout",
     "output_type": "stream",
     "text": [
      "5.0\n",
      "enter value:"
     ]
    },
    {
     "name": "stdin",
     "output_type": "stream",
     "text": [
      " 2\n"
     ]
    },
    {
     "name": "stdout",
     "output_type": "stream",
     "text": [
      "2.0\n",
      "the mean is 3.6666666666666665\u001b[0m\n"
     ]
    },
    {
     "name": "stdin",
     "output_type": "stream",
     "text": [
      " 6\n"
     ]
    },
    {
     "name": "stdout",
     "output_type": "stream",
     "text": [
      "6: how many values would you like to find the standard deviation of?"
     ]
    },
    {
     "name": "stdin",
     "output_type": "stream",
     "text": [
      " 2\n"
     ]
    },
    {
     "name": "stdout",
     "output_type": "stream",
     "text": [
      "\n",
      "enter value:"
     ]
    },
    {
     "name": "stdin",
     "output_type": "stream",
     "text": [
      " 1\n"
     ]
    },
    {
     "name": "stdout",
     "output_type": "stream",
     "text": [
      "1.0\n",
      "enter value:"
     ]
    },
    {
     "name": "stdin",
     "output_type": "stream",
     "text": [
      " 4\n"
     ]
    },
    {
     "name": "stdout",
     "output_type": "stream",
     "text": [
      "4.0\n",
      "the standard deviation is 1.5\u001b[0m\n"
     ]
    },
    {
     "name": "stdin",
     "output_type": "stream",
     "text": [
      " 5\n"
     ]
    },
    {
     "name": "stdout",
     "output_type": "stream",
     "text": [
      "5: \n",
      "Input an integer: "
     ]
    },
    {
     "name": "stdin",
     "output_type": "stream",
     "text": [
      " 4\n"
     ]
    },
    {
     "name": "stdout",
     "output_type": "stream",
     "text": [
      "\n",
      "Factorial of 4 is 24\u001b[0m\n"
     ]
    },
    {
     "name": "stdin",
     "output_type": "stream",
     "text": [
      " 4\n"
     ]
    },
    {
     "name": "stdout",
     "output_type": "stream",
     "text": [
      "4: Input a Decimal Number : \n"
     ]
    },
    {
     "name": "stdin",
     "output_type": "stream",
     "text": [
      " 54\n"
     ]
    },
    {
     "name": "stdout",
     "output_type": "stream",
     "text": [
      "Number is: 54\n",
      "Binary number is: 110110\n",
      "\u001b[0m\n"
     ]
    },
    {
     "name": "stdin",
     "output_type": "stream",
     "text": [
      " 3\n"
     ]
    },
    {
     "name": "stdout",
     "output_type": "stream",
     "text": [
      "3: Enter a number: \n"
     ]
    },
    {
     "name": "stdin",
     "output_type": "stream",
     "text": [
      " 8\n"
     ]
    },
    {
     "name": "stdout",
     "output_type": "stream",
     "text": [
      "The number is: 8\n",
      "0 1 1 2 3 5 8 13 \u001b[0m\n"
     ]
    },
    {
     "name": "stdin",
     "output_type": "stream",
     "text": [
      " 2\n"
     ]
    },
    {
     "name": "stdout",
     "output_type": "stream",
     "text": [
      "2: Enter the two numbers: \n"
     ]
    },
    {
     "name": "stdin",
     "output_type": "stream",
     "text": [
      " 5\n",
      " 6\n"
     ]
    },
    {
     "name": "stdout",
     "output_type": "stream",
     "text": [
      "The two numbers are: 5 and 6\n",
      "The LCM of the two numbers is: 30\n",
      "\u001b[0m\n"
     ]
    },
    {
     "name": "stdin",
     "output_type": "stream",
     "text": [
      " 1\n"
     ]
    },
    {
     "name": "stdout",
     "output_type": "stream",
     "text": [
      "1: Enter the two numbers: \n"
     ]
    },
    {
     "name": "stdin",
     "output_type": "stream",
     "text": [
      " 9\n",
      " 24\n"
     ]
    },
    {
     "name": "stdout",
     "output_type": "stream",
     "text": [
      "The two numbers are: 9 and 24\n",
      "The GCD of the two numbers is: 3\n",
      "\u001b[0m\n"
     ]
    },
    {
     "name": "stdin",
     "output_type": "stream",
     "text": [
      " 0\n"
     ]
    },
    {
     "name": "stdout",
     "output_type": "stream",
     "text": [
      "0: Goodbye, World!\u001b[0m\n"
     ]
    }
   ],
   "source": [
    "// imports allow you to use code already written by others.  It is good to explore and learn libraries.  The names around the dots often give you a hint to the originator of the code.\n",
    "import java.util.Scanner; //library for user input\n",
    "import java.lang.Math; //library for random numbers\n",
    "\n",
    "\n",
    "public class Menu {\n",
    "    // Instance Variables\n",
    "    public final String DEFAULT = \"\\u001B[0m\";  // Default Terminal Color\n",
    "    public final String[][] COLORS = { // 2D Array of ANSI Terminal Colors\n",
    "        {\"Default\",DEFAULT},\n",
    "        {\"Red\", \"\\u001B[31m\"}, \n",
    "        {\"Green\", \"\\u001B[32m\"}, \n",
    "        {\"Yellow\", \"\\u001B[33m\"}, \n",
    "        {\"Blue\", \"\\u001B[34m\"}, \n",
    "        {\"Purple\", \"\\u001B[35m\"}, \n",
    "        {\"Cyan\", \"\\u001B[36m\"}, \n",
    "        {\"White\", \"\\u001B[37m\"}, \n",
    "    };\n",
    "    // 2D column location for data\n",
    "    public final int NAME = 0;\n",
    "    public final int ANSI = 1;  // ANSI is the \"standard\" for terminal codes\n",
    "\n",
    "    // Constructor on this Object takes control of menu events and actions\n",
    "    public Menu() {\n",
    "        Scanner sc = new Scanner(System.in);  // using Java Scanner Object\n",
    "        \n",
    "        this.print();  // print Menu\n",
    "        boolean quit = false;\n",
    "        while (!quit) {\n",
    "            try {  // scan for Input\n",
    "                int choice = sc.nextInt();  // using method from Java Scanner Object\n",
    "                System.out.print(\"\" + choice + \": \");\n",
    "                quit = this.action(choice);  // take action\n",
    "            } catch (Exception e) {\n",
    "                sc.nextLine(); // error: clear buffer\n",
    "                System.out.println(e + \": Not a number, try again.\");\n",
    "            }\n",
    "        }\n",
    "        sc.close();\n",
    "    }\n",
    "\n",
    "    Scanner input = new Scanner(System.in);\n",
    "    String userInputStr;\n",
    "    int numofNum;\n",
    "    double mode, maxValue;\n",
    "    double meanNumber;\n",
    "    double sdNumber;\n",
    "    int dec_num, quot, i=1, j, choice;\n",
    "    int bin_num[] = new int[100];\n",
    "    public static final String REPORT = \"\\nFactorial of \"; \n",
    "    int userNum, fact;\n",
    "\n",
    "    // gcd\n",
    "    public static int gcd(int a,int b) {\n",
    "        if(b==0)\n",
    "            return a;\n",
    "        else\n",
    "            return gcd(b,a%b);\n",
    "    }\n",
    "\n",
    "    // lcm\n",
    "    public static int lcm(int n1,int n2) {\n",
    "        \n",
    "        return n1*n2/(gcd(n1,n2));\n",
    "    }\n",
    "\n",
    "    //fibonacci\n",
    "    public static int fibonacci(int n)\n",
    "    {\n",
    "        \n",
    "        if (n <= 1)\n",
    "            return n;\n",
    "  \n",
    "        \n",
    "        return fibonacci(n - 1)\n",
    "            + fibonacci(n - 2);\n",
    "    }\n",
    "    \n",
    "         static int findFact(int n)\n",
    "       {\n",
    "          int f = 1;\n",
    "          for (int i=1; i<n+1; i++)\n",
    "          {\n",
    "             f = f * i;\n",
    "          }\n",
    "          return f;\n",
    "       }\n",
    "    \n",
    "\n",
    "    //mean\n",
    "    public static double meancalc (double[] nums) {\n",
    "        double sum= 0.0;\n",
    "        for (int i=0; i<nums.length; i++) {\n",
    "            sum +=nums[i];\n",
    "        }\n",
    "        double average = sum/nums.length;\n",
    "        return average;\n",
    "    }\n",
    "\n",
    "    // standard deviation\n",
    "    public static double sdcalc (double[] numsSD) {\n",
    "        double sum = 0.0;\n",
    "        for (int i=0; i<numsSD.length; i++) {\n",
    "            sum += numsSD[i];\n",
    "        }\n",
    "        double average = sum/numsSD.length;\n",
    "        double sdsum = 0.0;\n",
    "        double standev = 0.0;\n",
    "        for (int j=0; j<numsSD.length; j++) {\n",
    "            sdsum += Math.pow(numsSD[j]-average, 2);\n",
    "            standev = Math.sqrt(sdsum/numsSD.length);\n",
    "        }\n",
    "        return standev;\n",
    "    }\n",
    "\n",
    "    // mode\n",
    "    public static double modecalc(double[] numsMode) {\n",
    "        double maxValue = 0.0;\n",
    "        int maxCount = 0, i, j;\n",
    "        for (i=0; i < numsMode.length; i++) {\n",
    "            int count = 0;\n",
    "            for (j=0; j < numsMode.length; j++) {\n",
    "                for (j = 0; j < numsMode.length; ++j) {\n",
    "                    if (numsMode[j] == numsMode[i])\n",
    "                    ++count;\n",
    "                 }\n",
    "            }\n",
    "            if (count > maxCount) {\n",
    "                maxCount = count;\n",
    "                maxValue = numsMode[i];\n",
    "             }\n",
    "        }\n",
    "        return maxValue;\n",
    "    }\n",
    "\n",
    "    // Print the menu options to Terminal\n",
    "    private void print() {\n",
    "        //System.out.println commands below is used to present a Menu to the user. \n",
    "        System.out.println(\"-------------------------\\n\");\n",
    "        System.out.println(\"Choose from these choices\");\n",
    "        System.out.println(\"-------------------------\\n\");\n",
    "        System.out.println(\"1 - GCD\");\n",
    "        System.out.println(\"2 - LCM\");\n",
    "        System.out.println(\"3 - Fibonacci\");\n",
    "        System.out.println(\"4 - Decimal to Binary\");\n",
    "        System.out.println(\"5 - Factorial\");\n",
    "        System.out.println(\"6 - Standard Deviation\");\n",
    "        System.out.println(\"7 - Mean\");\n",
    "        System.out.println(\"8 - Mode\");\n",
    "        System.out.println(\"0 - Quit\");\n",
    "        System.out.println(\"-------------------------\\n\");\n",
    "    }\n",
    "\n",
    "    // Private method to perform action and return true if action is to quit/exit\n",
    "    private boolean action(int selection) {\n",
    "        boolean quit = false;\n",
    "\n",
    "        switch (selection) {  // Switch or Switch/Case is Control Flow statement and is used to evaluate the user selection\n",
    "            case 0:  \n",
    "                System.out.print(\"Goodbye, World!\");\n",
    "                quit = true;\n",
    "                break;\n",
    "                \n",
    "            case 1:\n",
    "                System.out.println(\"Enter the two numbers: \");\n",
    "                int a = input.nextInt();\n",
    "                int b = input.nextInt();\n",
    "                System.out.println(\"The two numbers are: \" + a + \" and \" + b);\n",
    "                System.out.println(\"The GCD of the two numbers is: \" + gcd(a, b));\n",
    "                break;\n",
    "\n",
    "            case 2:\n",
    "                System.out.println(\"Enter the two numbers: \");\n",
    "                int n1 = input.nextInt();\n",
    "                int n2 = input.nextInt();\n",
    "                System.out.println(\"The two numbers are: \" + n1 + \" and \" + n2);\n",
    "                System.out.println(\"The LCM of the two numbers is: \" + lcm(n1, n2));\n",
    "                break;\n",
    "\n",
    "            case 3:\n",
    "                System.out.println(\"Enter a number: \");\n",
    "                int N = input.nextInt();\n",
    "                System.out.println(\"The number is: \" + N);\n",
    "                for (int i = 0; i < N; i++) {\n",
    "                System.out.print(fibonacci(i) + \" \");\n",
    "                };\n",
    "                break;\n",
    "                \n",
    "            case 4:\n",
    "                System.out.print(\"Input a Decimal Number : \\n\");\n",
    "                dec_num = input.nextInt();\n",
    "                System.out.print(\"Number is: \" + dec_num + \"\\n\");\n",
    "                quot = dec_num;\n",
    "                while(quot != 0)\n",
    "                {\n",
    "                    bin_num[i++] = quot%2;\n",
    "                    quot = quot/2;\n",
    "                }\n",
    "                System.out.print(\"Binary number is: \");\n",
    "                for(j=i-1; j>0; j--)\n",
    "                {\n",
    "                    System.out.print(bin_num[j]);\n",
    "                }\n",
    "                System.out.print(\"\\n\");\n",
    "                    break;\n",
    "                \n",
    "            case 5:\n",
    "                System.out.print(\"\\nInput an integer: \");\n",
    "                userInputStr = input.nextLine();\n",
    "                userNum = Integer.parseInt(userInputStr);\n",
    "                fact = findFact(userNum);\n",
    "                System.out.print(REPORT + userNum +\" is \"+fact);\n",
    "                break;\n",
    "          \n",
    "\n",
    "            case 6:\n",
    "                System.out.print(\"how many values would you like to find the standard deviation of?\");\n",
    "                userInputStr = input.nextLine();\n",
    "                numofNum = Integer.parseInt(userInputStr);\n",
    "                double[] numsSD = new double [numofNum]; //creates array with doubles, nomofNum number of values in the array\n",
    "                for (int i=0; i<numofNum; i++)\n",
    "                {\n",
    "                    System.out.print(\"\\nenter value:\");\n",
    "                    userInputStr = input.nextLine();\n",
    "                    numsSD[i] = Double.parseDouble(userInputStr);\n",
    "                    System.out.print(numsSD[i]);\n",
    "                }\n",
    "                sdNumber = sdcalc(numsSD);\n",
    "                System.out.print(\"\\nthe standard deviation is \"  +sdNumber);\n",
    "                    break;\n",
    "\n",
    "            case 7:\n",
    "                System.out.print(\"how many values would you like to average?\");\n",
    "                userInputStr = input.nextLine();\n",
    "                numofNum = Integer.parseInt(userInputStr);\n",
    "                double[] nums = new double [numofNum]; //creates array with doubles, nomofNum number of values in the array\n",
    "                for (int i=0; i<numofNum; i++)\n",
    "                {\n",
    "                    System.out.print(\"\\nenter value:\");\n",
    "                    userInputStr = input.nextLine();\n",
    "                    nums[i] = Double.parseDouble(userInputStr);\n",
    "                    System.out.print(nums[i]);\n",
    "                }\n",
    "                meanNumber = meancalc(nums);\n",
    "                System.out.print(\"\\nthe mean is \" +meanNumber);\n",
    "                break;\n",
    "\n",
    "            case 8:  \n",
    "                System.out.print(\"how many values would you like to find the mode of?\");\n",
    "                userInputStr = input.nextLine();\n",
    "                numofNum = Integer.parseInt(userInputStr);\n",
    "                double[] numsMode = new double [numofNum]; //creates array with doubles, numofNum number of values in the array\n",
    "                for (int i=0; i < numofNum; i++)\n",
    "                {\n",
    "                    System.out.print(\"\\nenter value: \");\n",
    "                    userInputStr = input.nextLine();\n",
    "                    numsMode[i] = Double.parseDouble(userInputStr);\n",
    "                    System.out.print(numsMode[i]);\n",
    "                }\n",
    "                mode = modecalc(numsMode);\n",
    "                System.out.print(\"\\nthe mode is \" +mode);\n",
    "     \n",
    "                \n",
    "        \n",
    "            break; \n",
    "            \n",
    "            \n",
    "            default:\n",
    "                //Prints error message from console\n",
    "                System.out.print(\"Unexpected choice, try again.\");\n",
    "        }\n",
    "        System.out.println(DEFAULT);  // make sure to reset color and provide new line\n",
    "        return quit;\n",
    "    }\n",
    "\n",
    "    // Static driver/tester method\n",
    "    static public void main(String[] args)  {  \n",
    "        new Menu(); // starting Menu object\n",
    " \n",
    "    }\n",
    "\n",
    "}\n",
    "Menu.main(null);"
   ]
  }
 ],
 "metadata": {
  "kernelspec": {
   "display_name": "Java",
   "language": "java",
   "name": "java"
  },
  "language_info": {
   "codemirror_mode": "java",
   "file_extension": ".jshell",
   "mimetype": "text/x-java-source",
   "name": "Java",
   "pygments_lexer": "java",
   "version": "11.0.16+8-post-Ubuntu-0ubuntu120.04"
  }
 },
 "nbformat": 4,
 "nbformat_minor": 5
}

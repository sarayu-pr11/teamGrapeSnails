{
 "cells": [
  {
   "cell_type": "markdown",
   "id": "61a3aee7-1f51-4d75-b4d1-728edcfb5d0e",
   "metadata": {},
   "source": [
    "# Math Functions Menu\n",
    "> Menu\n",
    "\n",
    "- toc: false \n",
    "- comments: true\n",
    "- categories: [jupyter]"
   ]
  },
  {
   "cell_type": "code",
   "execution_count": null,
   "id": "8b772b52-de88-4118-9afe-60f601fd084a",
   "metadata": {},
   "outputs": [
    {
     "name": "stdout",
     "output_type": "stream",
     "text": [
      "-------------------------\n",
      "\n",
      "Choose from these choices\n",
      "-------------------------\n",
      "\n",
      "1 - GCD\n",
      "2 - LCM\n",
      "3 - Fibonacci\n",
      "0 - Quit\n",
      "-------------------------\n",
      "\n"
     ]
    },
    {
     "name": "stdin",
     "output_type": "stream",
     "text": [
      " 1\n"
     ]
    },
    {
     "name": "stdout",
     "output_type": "stream",
     "text": [
      "1: Enter the two numbers: \n"
     ]
    },
    {
     "name": "stdin",
     "output_type": "stream",
     "text": [
      " 4\n",
      " 5\n"
     ]
    },
    {
     "name": "stdout",
     "output_type": "stream",
     "text": [
      "The two numbers are: 4 and 5\n",
      "The GCD of the two numbers is: 1\n",
      "\u001b[0m\n"
     ]
    },
    {
     "name": "stdin",
     "output_type": "stream",
     "text": [
      " 2\n"
     ]
    },
    {
     "name": "stdout",
     "output_type": "stream",
     "text": [
      "2: Enter the two numbers: \n"
     ]
    },
    {
     "name": "stdin",
     "output_type": "stream",
     "text": [
      " 6\n",
      " 10\n"
     ]
    },
    {
     "name": "stdout",
     "output_type": "stream",
     "text": [
      "The two numbers are: 6 and 10\n",
      "The LCM of the two numbers is: 30\n",
      "\u001b[0m\n"
     ]
    },
    {
     "name": "stdin",
     "output_type": "stream",
     "text": [
      " 3\n"
     ]
    },
    {
     "name": "stdout",
     "output_type": "stream",
     "text": [
      "3: Enter a number: \n"
     ]
    },
    {
     "name": "stdin",
     "output_type": "stream",
     "text": [
      " 7\n"
     ]
    },
    {
     "name": "stdout",
     "output_type": "stream",
     "text": [
      "The number is: 7\n",
      "0 1 1 2 3 5 8 \u001b[0m\n"
     ]
    }
   ],
   "source": [
    "// imports allow you to use code already written by others.  It is good to explore and learn libraries.  The names around the dots often give you a hint to the originator of the code.\n",
    "import java.util.Scanner; //library for user input\n",
    "import java.lang.Math; //library for random numbers\n",
    "\n",
    "\n",
    "public class Menu {\n",
    "    // Instance Variables\n",
    "    public final String DEFAULT = \"\\u001B[0m\";  // Default Terminal Color\n",
    "    public final String[][] COLORS = { // 2D Array of ANSI Terminal Colors\n",
    "        {\"Default\",DEFAULT},\n",
    "        {\"Red\", \"\\u001B[31m\"}, \n",
    "        {\"Green\", \"\\u001B[32m\"}, \n",
    "        {\"Yellow\", \"\\u001B[33m\"}, \n",
    "        {\"Blue\", \"\\u001B[34m\"}, \n",
    "        {\"Purple\", \"\\u001B[35m\"}, \n",
    "        {\"Cyan\", \"\\u001B[36m\"}, \n",
    "        {\"White\", \"\\u001B[37m\"}, \n",
    "    };\n",
    "    // 2D column location for data\n",
    "    public final int NAME = 0;\n",
    "    public final int ANSI = 1;  // ANSI is the \"standard\" for terminal codes\n",
    "\n",
    "    // Constructor on this Object takes control of menu events and actions\n",
    "    public Menu() {\n",
    "        Scanner sc = new Scanner(System.in);  // using Java Scanner Object\n",
    "        \n",
    "        this.print();  // print Menu\n",
    "        boolean quit = false;\n",
    "        while (!quit) {\n",
    "            try {  // scan for Input\n",
    "                int choice = sc.nextInt();  // using method from Java Scanner Object\n",
    "                System.out.print(\"\" + choice + \": \");\n",
    "                quit = this.action(choice);  // take action\n",
    "            } catch (Exception e) {\n",
    "                sc.nextLine(); // error: clear buffer\n",
    "                System.out.println(e + \": Not a number, try again.\");\n",
    "            }\n",
    "        }\n",
    "        sc.close();\n",
    "    }\n",
    "\n",
    "    Scanner input = new Scanner(System.in);\n",
    "\n",
    "    public static int gcd(int a,int b) {\n",
    "        if(b==0)\n",
    "            return a;\n",
    "        else\n",
    "            return gcd(b,a%b);\n",
    "    }\n",
    "\n",
    "    public static int lcm(int n1,int n2) {\n",
    "        \n",
    "        return n1*n2/(gcd(n1,n2));\n",
    "    }\n",
    "\n",
    "    public static int fibonacci(int n)\n",
    "    {\n",
    "        // Base Case\n",
    "        if (n <= 1)\n",
    "            return n;\n",
    "  \n",
    "        // Recursive call\n",
    "        return fibonacci(n - 1)\n",
    "            + fibonacci(n - 2);\n",
    "    }\n",
    "\n",
    "    // Print the menu options to Terminal\n",
    "    private void print() {\n",
    "        //System.out.println commands below is used to present a Menu to the user. \n",
    "        System.out.println(\"-------------------------\\n\");\n",
    "        System.out.println(\"Choose from these choices\");\n",
    "        System.out.println(\"-------------------------\\n\");\n",
    "        System.out.println(\"1 - GCD\");\n",
    "        System.out.println(\"2 - LCM\");\n",
    "        System.out.println(\"3 - Fibonacci\");\n",
    "        System.out.println(\"0 - Quit\");\n",
    "        System.out.println(\"-------------------------\\n\");\n",
    "    }\n",
    "\n",
    "    // Private method to perform action and return true if action is to quit/exit\n",
    "    private boolean action(int selection) {\n",
    "        boolean quit = false;\n",
    "\n",
    "        switch (selection) {  // Switch or Switch/Case is Control Flow statement and is used to evaluate the user selection\n",
    "            case 0:  \n",
    "                System.out.print(\"Goodbye, World!\");\n",
    "                quit = true;\n",
    "                break;\n",
    "            case 1:\n",
    "                System.out.println(\"Enter the two numbers: \");\n",
    "                int a = input.nextInt();\n",
    "                int b = input.nextInt();\n",
    "                System.out.println(\"The two numbers are: \" + a + \" and \" + b);\n",
    "                System.out.println(\"The GCD of the two numbers is: \" + gcd(a, b));\n",
    "                break;\n",
    "            case 2:\n",
    "                System.out.println(\"Enter the two numbers: \");\n",
    "                int n1 = input.nextInt();\n",
    "                int n2 = input.nextInt();\n",
    "                System.out.println(\"The two numbers are: \" + n1 + \" and \" + n2);\n",
    "                System.out.println(\"The LCM of the two numbers is: \" + lcm(n1, n2));\n",
    "                break;\n",
    "            case 3:\n",
    "                System.out.println(\"Enter a number: \");\n",
    "                int N = input.nextInt();\n",
    "                System.out.println(\"The number is: \" + N);\n",
    "                for (int i = 0; i < N; i++) {\n",
    "                System.out.print(fibonacci(i) + \" \");\n",
    "                };\n",
    "                break;\n",
    "                    \n",
    "            default:\n",
    "                //Prints error message from console\n",
    "                System.out.print(\"Unexpected choice, try again.\");\n",
    "        }\n",
    "        System.out.println(DEFAULT);  // make sure to reset color and provide new line\n",
    "        return quit;\n",
    "    }\n",
    "\n",
    "    // Static driver/tester method\n",
    "    static public void main(String[] args)  {  \n",
    "        new Menu(); // starting Menu object\n",
    " \n",
    "    }\n",
    "\n",
    "}\n",
    "Menu.main(null);"
   ]
  }
 ],
 "metadata": {
  "kernelspec": {
   "display_name": "Java",
   "language": "java",
   "name": "java"
  },
  "language_info": {
   "codemirror_mode": "java",
   "file_extension": ".jshell",
   "mimetype": "text/x-java-source",
   "name": "Java",
   "pygments_lexer": "java",
   "version": "11.0.16+8-post-Ubuntu-0ubuntu120.04"
  }
 },
 "nbformat": 4,
 "nbformat_minor": 5
}

{
 "cells": [
  {
   "cell_type": "markdown",
   "metadata": {},
   "source": [
    "# \"Boolean Expressions and If Statements\"\n",
    "> \"Unit 03 Student Lead Lesson\"\n",
    "\n",
    "- toc: true\n",
    "- branch: master\n",
    "- badges: true\n",
    "- comments: true\n",
    "- author: Alice Tang\n",
    "- categories: [java, jupyter]"
   ]
  },
  {
   "cell_type": "markdown",
   "metadata": {},
   "source": [
    "## Importance of Unit 03\n",
    "- The Collegeboard website states that this unit makes up 15%-17.5% of the AP test\n",
    "- Almost all the FRQs and multiple choice will contain some kind of if-else statements as it allows for more complex code\n",
    "- Switch case allows for if-else statements to be written more effeciently\n",
    "- Booleans are required for many assignment and comparative logic functions\n",
    "- Boolean allows a programmer to implement choice into their code"
   ]
  },
  {
   "cell_type": "markdown",
   "metadata": {},
   "source": [
    "## IF Statements\n",
    "An If statement is a conditional statement that, when true, runs the code inside the statement."
   ]
  },
  {
   "cell_type": "code",
   "execution_count": 16,
   "metadata": {},
   "outputs": [
    {
     "name": "stdout",
     "output_type": "stream",
     "text": [
      "Hi\n",
      "Hello\n"
     ]
    }
   ],
   "source": [
    "//condition inside if statment is true so system outprints \"Hi\"\n",
    "if (true) {\n",
    "    System.out.println(\"Hi\");\n",
    "}\n",
    "\n",
    "//true and not false so system prints out \"Hello\"\n",
    "if (true && !false) {\n",
    "    System.out.println(\"Hello\");\n",
    "}"
   ]
  },
  {
   "cell_type": "markdown",
   "metadata": {},
   "source": [
    "### If/Else Statement\n",
    "The If/Else statement extends the If statement by specifying an action if the If (true/false expression) is false. With the If statement, a program will execute the true code block or do nothing. With the If/Else statement, the program will execute either the true code block or the false code block so something is always executed with an If/Else statement."
   ]
  },
  {
   "cell_type": "code",
   "execution_count": 3,
   "metadata": {},
   "outputs": [
    {
     "name": "stdout",
     "output_type": "stream",
     "text": [
      "Greater than 5\n"
     ]
    }
   ],
   "source": [
    "int x = 10;\n",
    "\n",
    "//if statement is false so the else statment runs\n",
    "if (x<5) {\n",
    "    System.out.println(\"Hello\");\n",
    "}\n",
    "else {\n",
    "    System.out.println(\"Greater than 5\");\n",
    "}\n"
   ]
  },
  {
   "cell_type": "markdown",
   "metadata": {},
   "source": [
    "### If/ElseIf Statement\n",
    "The If/ElseIf statement allows you to create a chain of If statements. You are able to test more than two conditions unlike the If/Else statment. The If statements are evaluated in order until one of the If expressions is true or the end of the If/ElseIf chain is reached. If the end of the If/ElseIf chain is reached without a true expression, no code blocks are executed."
   ]
  },
  {
   "cell_type": "code",
   "execution_count": 4,
   "metadata": {},
   "outputs": [
    {
     "name": "stdout",
     "output_type": "stream",
     "text": [
      "Less than 10\n"
     ]
    }
   ],
   "source": [
    "int x = 9;\n",
    "\n",
    "//false conditions until last else if statement so that one runs\n",
    "if (x<2){\n",
    "    System.out.println(\"Less than 2\");\n",
    "}\n",
    "else if (x<4){\n",
    "    System.out.println(\"Less than 4\");\n",
    "}\n",
    "else if (x<6){\n",
    "    System.out.println(\"Less than 6\");\n",
    "}\n",
    "else if (x<8){\n",
    "    System.out.println(\"Less than 8\");\n",
    "}\n",
    "else if (x<10){\n",
    "    System.out.println(\"Less than 10\");\n",
    "}"
   ]
  },
  {
   "cell_type": "markdown",
   "metadata": {},
   "source": [
    "### If/ElseIf/Else Statement\n",
    "If/ElseIf/Else statements are the same as If/ElseIf statements except they have a trailing Else statement added at the end. This way there is executable code if none of the If or Else If statments are true."
   ]
  },
  {
   "cell_type": "code",
   "execution_count": 6,
   "metadata": {},
   "outputs": [
    {
     "name": "stdout",
     "output_type": "stream",
     "text": [
      "not a, b, or c\n"
     ]
    }
   ],
   "source": [
    "char x = 'd';\n",
    "\n",
    "//none of the if or elseif statments are true so it goes through the chain and runs the else statment\n",
    "if (x=='a'){\n",
    "    System.out.println(\"x is a\");\n",
    "}\n",
    "else if (x=='b'){\n",
    "    System.out.println(\"x is b\");\n",
    "}\n",
    "else if (x=='c'){\n",
    "    System.out.println(\"x is c\");\n",
    "}\n",
    "else {\n",
    "    System.out.println(\"not a, b, or c\");\n",
    "}\n"
   ]
  },
  {
   "cell_type": "markdown",
   "metadata": {},
   "source": [
    "If/ElseIf/Else statments can be used to decide different program outputs depending on what the user inputted. For example, they would be helpful in a menu program. "
   ]
  },
  {
   "cell_type": "code",
   "execution_count": 8,
   "metadata": {},
   "outputs": [
    {
     "name": "stdout",
     "output_type": "stream",
     "text": [
      "choose an integer 1-5: \n",
      "4\n",
      "\n",
      "you chose four\n"
     ]
    }
   ],
   "source": [
    "Scanner inputStream = new Scanner(System.in);\n",
    "String userInputStr;\n",
    "int choice;\n",
    "\n",
    "System.out.println(\"choose an integer 1-5: \");\n",
    "userInputStr = inputStream.nextLine();\n",
    "choice = Integer.parseInt(userInputStr);  //get user input for choice\n",
    "System.out.println(choice);\n",
    "\n",
    "//false conditions until choice equals 4 and only that else if statement runs\n",
    "if (choice==1){\n",
    "    System.out.println(\"\\nyou chose one\");\n",
    "}\n",
    "else if (choice==2){\n",
    "    System.out.println(\"\\nyou chose two\");\n",
    "}\n",
    "else if (choice==3){\n",
    "    System.out.println(\"\\nyou chose three\");\n",
    "}\n",
    "else if (choice==4){\n",
    "    System.out.println(\"\\nyou chose four\");\n",
    "}\n",
    "else if (choice==5){\n",
    "    System.out.println(\"\\nyou chose five\");\n",
    "}\n",
    "else {\n",
    "    System.out.println(\"invalid input\");\n",
    "}\n"
   ]
  },
  {
   "cell_type": "markdown",
   "metadata": {},
   "source": [
    "### Switch Statement\n",
    "A switch statement is usually more efficient than a set of nested ifs. The switch statement is a control flow statement. It evaluates a user selection and different parts of code can be executed quickly. Below, a switch statement will preform the same function as the chain of nested ifs above. "
   ]
  },
  {
   "cell_type": "code",
   "execution_count": 14,
   "metadata": {},
   "outputs": [
    {
     "name": "stdout",
     "output_type": "stream",
     "text": [
      "choose an integer 1-5: \n",
      "4\n",
      "\n",
      "you chose four\n"
     ]
    }
   ],
   "source": [
    "Scanner inputStream = new Scanner(System.in);\n",
    "String userInputStr;\n",
    "int choice;\n",
    "\n",
    "System.out.println(\"choose an integer 1-5: \");\n",
    "userInputStr = inputStream.nextLine();\n",
    "choice = Integer.parseInt(userInputStr);\n",
    "System.out.println(choice);\n",
    "\n",
    "switch (choice) {  //based on what the user inputted for the choice variable, different cases will run\n",
    "    case 1:\n",
    "        System.out.println(\"\\nyou chose one\");\n",
    "        break;\n",
    "    case 2:\n",
    "        System.out.println(\"\\nyou chose two\");\n",
    "        break;\n",
    "    case 3:\n",
    "        System.out.println(\"\\nyou chose three\");\n",
    "        break; //default prevents it from moving on to and running the following cases\n",
    "    case 4:\n",
    "        System.out.println(\"\\nyou chose four\");\n",
    "        break;\n",
    "    case 5:\n",
    "        System.out.println(\"\\nyou chose five\");\n",
    "        break;\n",
    "    default:  \n",
    "        System.out.println(\"invalid input\");  \n",
    "}"
   ]
  },
  {
   "cell_type": "markdown",
   "metadata": {},
   "source": [
    "## Boolean Expressions \n",
    "A Boolean expression is a logical statement that is either True or False. Boolean expressions can compare any type of data if both parts of the expression have the same basic data type. A Boolean expression can be a combination of the Boolean constants true or false."
   ]
  },
  {
   "cell_type": "markdown",
   "metadata": {},
   "source": [
    "### Logic Gates\n",
    "Logic gates are used to carry out logical operations on single or multiple binary inputs and give one binary output. In simple terms, logic gates are the electronic circuits in a digital system.\n",
    "\n",
    "![This is an image](https://www.electronicsforu.com/wp-contents/uploads/2022/08/logic-gates.jpeg)\n",
    "\n",
    "- Buffer/YES : output is the same as the input\n",
    "- NOT : output is the opposite of the input\n",
    "- AND : returns true if both inputs are true\n",
    "- NAND : returns false if both inputs are true\n",
    "- OR : returns true if at least one of the inputs are true, returns false if both inputs are false\n",
    "- NOR : returns false if at least one of the inputs are true, returns true if both inputs are false\n",
    "- XOR : returns true if the two inputs are different\n",
    "- XNOR : returns true if two inputs are the same \n",
    "\n",
    "![This is an image](https://www.researchgate.net/profile/Seth-Abels/publication/291418819/figure/fig3/AS:718510820962304@1548317737478/Summary-of-the-common-Boolean-logic-gates-with-symbols-and-truth-tables.png)\n",
    "\n",
    "These tables demonstrate the input and output combinations of different logic gates\n",
    "\n",
    "- Tips to help remember the symbols:\n",
    "    - each main shape is unique to a logic gate (ex: triangle = buffer/YES)\n",
    "    - a small circle represents the addition of \"NOT\" to the logic gate\n",
    "    - a small curved line represents the addition of \"exclusive\" or \"X\" to the logic gate\n"
   ]
  },
  {
   "cell_type": "markdown",
   "metadata": {},
   "source": [
    "### De Morgan's Law\n",
    "DeMorgan's laws tell us how to transform logical expressions (with multiple AND and/or OR statements) using the NOT operator.\n",
    "- (not(A and B)) is equal to (not A or not B)\n",
    "- (not(A or B)) is equal to (not A and not B)\n",
    "- (not(A and B)) is not equal to (not A and not B)"
   ]
  },
  {
   "cell_type": "markdown",
   "metadata": {},
   "source": [
    "![This is an image](https://github.com/tangalice/alicetang/blob/master/images/DeMorgans.png?raw=true)"
   ]
  },
  {
   "cell_type": "markdown",
   "metadata": {},
   "source": [
    "Syntax\n",
    "- union symbol (∪) : OR\n",
    "- intersection symbol (∩) : AND\n",
    "- apostrophe (') : NOT"
   ]
  },
  {
   "cell_type": "code",
   "execution_count": 15,
   "metadata": {},
   "outputs": [
    {
     "name": "stdout",
     "output_type": "stream",
     "text": [
      "result 1 and 2 are the same\n",
      "result 3 and 4 are the same\n"
     ]
    }
   ],
   "source": [
    "boolean a = true;\n",
    "boolean b = false;\n",
    "\n",
    "//Not (A and B)\n",
    "boolean result1 = !(a && b);\n",
    "\n",
    "//Not A or Not B\n",
    "boolean result2 = ((!a) || (!b));\n",
    "\n",
    "if (result1 == result2){\n",
    "    System.out.println(\"result 1 and 2 are the same\");  \n",
    "}\n",
    "else{   //result 1 and 2 will always be equal, the code should never reach here\n",
    "    System.out.println(\"Error\"); \n",
    "}\n",
    "\n",
    "//Not (A or B)\n",
    "boolean result3 = !(a || b);\n",
    "\n",
    "//Not A and Not B\n",
    "boolean result4 = ((!a) && (!b));\n",
    "\n",
    "if (result3 == result4){\n",
    "    System.out.println(\"result 3 and 4 are the same\");  \n",
    "}\n",
    "else{   //result 3 and 4 will always be equal, the code should never reach here\n",
    "    System.out.println(\"Error\"); \n",
    "}\n"
   ]
  },
  {
   "cell_type": "markdown",
   "metadata": {},
   "source": [
    "### Truth Tables\n",
    "A truth table is a breakdown of a logic function by listing all possible values the function can attain. Such a table typically contains several rows and columns, with the top row representing the logical variables and combinations, in increasing complexity leading up to the final function.\n",
    "![This is an image](https://github.com/tangalice/alicetang/blob/master/images/TruthTable.png?raw=true)"
   ]
  },
  {
   "cell_type": "markdown",
   "metadata": {},
   "source": [
    "## Homework\n",
    "- 2009 FRQ 3b\n",
    "- 2017 FRQ 1b\n",
    "- 2019 FRQ 3b"
   ]
  }
 ],
 "metadata": {
  "kernelspec": {
   "display_name": "Java",
   "language": "java",
   "name": "java"
  },
  "language_info": {
   "codemirror_mode": "java",
   "file_extension": ".jshell",
   "mimetype": "text/x-java-source",
   "name": "java",
   "pygments_lexer": "java",
   "version": "18.0.1.1+2-6"
  },
  "orig_nbformat": 4,
  "vscode": {
   "interpreter": {
    "hash": "aee8b7b246df8f9039afb4144a1f6fd8d2ca17a180786b69acc140d282b71a49"
   }
  }
 },
 "nbformat": 4,
 "nbformat_minor": 2
}
